{
 "cells": [
  {
   "cell_type": "code",
   "execution_count": 32,
   "metadata": {},
   "outputs": [],
   "source": [
    "#loading libraries\n",
    "import pandas as pd\n",
    "import numpy as np\n",
    "import os"
   ]
  },
  {
   "cell_type": "code",
   "execution_count": 33,
   "metadata": {},
   "outputs": [],
   "source": [
    "# reading data\n",
    "train = pd.read_csv('./data/train.csv')\n",
    "jokes = pd.read_csv('./data/jokes.csv')\n",
    "test = pd.read_csv('./data/test.csv')"
   ]
  },
  {
   "cell_type": "code",
   "execution_count": 34,
   "metadata": {},
   "outputs": [
    {
     "name": "stdout",
     "output_type": "stream",
     "text": [
      "          id  user_id  joke_id\n",
      "0    6194_11     6194       11\n",
      "1    19356_3    19356        3\n",
      "2   23426_79    23426       79\n",
      "3    40030_3    40030        3\n",
      "4  19806_115    19806      115\n",
      "          id  user_id  joke_id  Rating\n",
      "0  31030_110    31030      110   2.750\n",
      "1  16144_109    16144      109   5.094\n",
      "2    23098_6    23098        6  -6.438\n",
      "3   14273_86    14273       86   4.406\n",
      "4  18419_134    18419      134   9.375\n",
      "   joke_id                                          joke_text\n",
      "0        1  Q. What's O. J. Simpson's web address? A. Slas...\n",
      "1        2  How many feminists does it take to screw in a ...\n",
      "2        3  Q. Did you hear about the dyslexic devil worsh...\n",
      "3        4  They asked the Japanese visitor if they have e...\n",
      "4        5  Q: What did the blind person say when given so...\n"
     ]
    }
   ],
   "source": [
    "print(test.head())\n",
    "print(train.head())\n",
    "print(jokes.head())"
   ]
  },
  {
   "cell_type": "code",
   "execution_count": 35,
   "metadata": {},
   "outputs": [],
   "source": [
    "from surprise import Dataset, Reader, SVD, accuracy\n",
    "from surprise import Reader"
   ]
  },
  {
   "cell_type": "code",
   "execution_count": 36,
   "metadata": {},
   "outputs": [],
   "source": [
    "df = pd.DataFrame(train[['user_id',  'joke_id',  'Rating']])\n",
    "reader = Reader(rating_scale=(-10, 10))"
   ]
  },
  {
   "cell_type": "code",
   "execution_count": 37,
   "metadata": {},
   "outputs": [],
   "source": [
    "# Loads Pandas dataframe\n",
    "data = Dataset.load_from_df(df[['user_id',  'joke_id',  'Rating']], reader)"
   ]
  },
  {
   "cell_type": "code",
   "execution_count": 38,
   "metadata": {},
   "outputs": [
    {
     "name": "stdout",
     "output_type": "stream",
     "text": [
      "CPU times: user 1.69 s, sys: 66.5 ms, total: 1.75 s\n",
      "Wall time: 1.79 s\n"
     ]
    }
   ],
   "source": [
    "%%time\n",
    "from surprise.model_selection import train_test_split\n",
    "train_set, test_set = train_test_split(data, test_size=.25)"
   ]
  },
  {
   "cell_type": "code",
   "execution_count": null,
   "metadata": {},
   "outputs": [],
   "source": [
    "%%time\n",
    "svd_model = SVD()\n",
    "svd_model.fit(train_set)"
   ]
  },
  {
   "cell_type": "code",
   "execution_count": null,
   "metadata": {},
   "outputs": [],
   "source": [
    "%%time\n",
    "predictions = svd_model.test(test_set)"
   ]
  },
  {
   "cell_type": "code",
   "execution_count": null,
   "metadata": {},
   "outputs": [],
   "source": [
    "accuracy.rmse(predictions)"
   ]
  },
  {
   "cell_type": "code",
   "execution_count": 133,
   "metadata": {},
   "outputs": [
    {
     "data": {
      "text/plain": [
       "537880"
      ]
     },
     "execution_count": 133,
     "metadata": {},
     "output_type": "execute_result"
    }
   ],
   "source": [
    "test.shape[0]"
   ]
  },
  {
   "cell_type": "code",
   "execution_count": 134,
   "metadata": {},
   "outputs": [],
   "source": [
    "from tqdm import trange"
   ]
  },
  {
   "cell_type": "code",
   "execution_count": 135,
   "metadata": {},
   "outputs": [],
   "source": [
    "pred = []"
   ]
  },
  {
   "cell_type": "code",
   "execution_count": 136,
   "metadata": {},
   "outputs": [
    {
     "name": "stderr",
     "output_type": "stream",
     "text": [
      "100%|██████████| 537880/537880 [00:23<00:00, 22688.63it/s]\n"
     ]
    }
   ],
   "source": [
    "for i in trange(test.shape[0]):\n",
    "    pred.append((test.iloc[i,0], svd_model.predict(test.iloc[i, 1], test.iloc[i, 2])[3]))"
   ]
  },
  {
   "cell_type": "code",
   "execution_count": 137,
   "metadata": {},
   "outputs": [],
   "source": [
    "pdf = pd.DataFrame(pred, columns = ['id', 'Rating'])"
   ]
  },
  {
   "cell_type": "code",
   "execution_count": 138,
   "metadata": {},
   "outputs": [],
   "source": [
    "pdf.to_csv(r'./data/pred_v6.csv', index = False)"
   ]
  },
  {
   "cell_type": "code",
   "execution_count": 22,
   "metadata": {},
   "outputs": [],
   "source": []
  }
 ],
 "metadata": {
  "kernelspec": {
   "display_name": "Python 3",
   "language": "python",
   "name": "python3"
  },
  "language_info": {
   "codemirror_mode": {
    "name": "ipython",
    "version": 3
   },
   "file_extension": ".py",
   "mimetype": "text/x-python",
   "name": "python",
   "nbconvert_exporter": "python",
   "pygments_lexer": "ipython3",
   "version": "3.7.3"
  }
 },
 "nbformat": 4,
 "nbformat_minor": 2
}
